{
 "cells": [
  {
   "cell_type": "code",
   "execution_count": 1,
   "metadata": {},
   "outputs": [],
   "source": [
    "import pandas as pd\n",
    "import matplotlib.pyplot as plt\n",
    "import numpy as np\n",
    "from sklearn.model_selection import train_test_split\n",
    "from transformers import AutoTokenizer\n",
    "import random\n",
    "from datasets import Dataset\n",
    "from datasets import load_metric\n",
    "from transformers import AutoModelForSequenceClassification, TrainingArguments, Trainer\n"
   ]
  },
  {
   "cell_type": "code",
   "execution_count": 2,
   "metadata": {},
   "outputs": [],
   "source": [
    "# # Define the path to your text file\n",
    "# file_path_1 = \"/home/fanminzhi/esm_pdbs/sequence.txt\"\n",
    "# classification_path_1 = \"/home/fanminzhi/esm_pdbs/ss.txt\"\n",
    "# file_path_2 = \"/home/fanminzhi/rcsb_pdbs/sequence.txt\"\n",
    "# classification_path_2 = \"/home/fanminzhi/rcsb_pdbs/ss.txt\"\n",
    "# file_path_3 = \"/home/fanminzhi/esm_pdbs/sequence_2.txt\"\n",
    "# classification_path_3 = \"/home/fanminzhi/esm_pdbs/ss_2.txt\"\n",
    "# # Read the file\n",
    "# with open(file_path_1, 'r') as file:\n",
    "#     lines_1 = file.readlines()\n",
    "# with open(file_path_2, 'r') as file:\n",
    "#     lines_2 = file.readlines()\n",
    "# with open(file_path_3, 'r') as file:\n",
    "#     lines_3 = file.readlines()\n",
    "\n",
    "# ss_df_1 = pd.read_csv(classification_path_1, header=None, names=['alpha_helix', 'beta_sheet'])\n",
    "# ss_df_2 = pd.read_csv(classification_path_2, header=None, names=['alpha_helix', 'beta_sheet'])\n",
    "# ss_df_3 = pd.read_csv(classification_path_3, header=None, names=['alpha_helix', 'beta_sheet'])\n",
    "\n",
    "# Process lines to remove the leading '>' character\n",
    "# lines_11 = [line.strip() for line in lines_1 if line.startswith('>')]\n",
    "# lines_22 = [line.strip() for line in lines_2 if line.startswith('>')]\n",
    "# lines_33 = [line.strip() for line in lines_3 if line.startswith('>')]\n",
    "\n",
    "# lines = lines_11 + lines_22 + lines_33\n",
    "# lines = [line[1:] if line.startswith('>') else line for line in lines]\n",
    "\n",
    "# # Create a pandas DataFrame\n",
    "# df = pd.DataFrame(lines, columns=['data'])\n",
    "# ss_df = pd.concat([ss_df_1, ss_df_2, ss_df_3], ignore_index=True)\n",
    "# df['alpha_helix'] = ss_df['alpha_helix']\n",
    "# df['beta_sheet'] = ss_df['beta_sheet']\n",
    "# df.to_csv('protein_classification.csv')"
   ]
  },
  {
   "cell_type": "code",
   "execution_count": null,
   "metadata": {},
   "outputs": [],
   "source": []
  },
  {
   "cell_type": "code",
   "execution_count": 3,
   "metadata": {},
   "outputs": [],
   "source": [
    "df = pd.read_csv(\"protein_classification.csv\", index_col=0)"
   ]
  },
  {
   "cell_type": "code",
   "execution_count": 4,
   "metadata": {},
   "outputs": [
    {
     "data": {
      "text/html": [
       "<div>\n",
       "<style scoped>\n",
       "    .dataframe tbody tr th:only-of-type {\n",
       "        vertical-align: middle;\n",
       "    }\n",
       "\n",
       "    .dataframe tbody tr th {\n",
       "        vertical-align: top;\n",
       "    }\n",
       "\n",
       "    .dataframe thead th {\n",
       "        text-align: right;\n",
       "    }\n",
       "</style>\n",
       "<table border=\"1\" class=\"dataframe\">\n",
       "  <thead>\n",
       "    <tr style=\"text-align: right;\">\n",
       "      <th></th>\n",
       "      <th>data</th>\n",
       "      <th>alpha_helix</th>\n",
       "      <th>beta_sheet</th>\n",
       "    </tr>\n",
       "  </thead>\n",
       "  <tbody>\n",
       "    <tr>\n",
       "      <th>0</th>\n",
       "      <td>MKIVLKQVGHYKRDTFLTMGLTALEVVMEILLPFITAIIIDDGLKQ...</td>\n",
       "      <td>65.46</td>\n",
       "      <td>10.54</td>\n",
       "    </tr>\n",
       "    <tr>\n",
       "      <th>1</th>\n",
       "      <td>MDIFDGLTALGGLCLFLFGMQIMAEALQRRAGGRLEGLLRRMTRSR...</td>\n",
       "      <td>82.84</td>\n",
       "      <td>0.35</td>\n",
       "    </tr>\n",
       "    <tr>\n",
       "      <th>2</th>\n",
       "      <td>MQEQYRPEDIESNVQLHWQEKQTFKVTEDDSKEKYYCLSMLPYPSG...</td>\n",
       "      <td>39.77</td>\n",
       "      <td>23.37</td>\n",
       "    </tr>\n",
       "    <tr>\n",
       "      <th>3</th>\n",
       "      <td>MKNNNWYRTAIFYELYVRAFCDSNADGWGDLRGMAEKLDYLKKLGV...</td>\n",
       "      <td>33.40</td>\n",
       "      <td>16.98</td>\n",
       "    </tr>\n",
       "    <tr>\n",
       "      <th>4</th>\n",
       "      <td>MSTSVALDIDQYAINIAKGLIMDTVRKADSGHTGGPLSSMDYTYTL...</td>\n",
       "      <td>45.84</td>\n",
       "      <td>13.92</td>\n",
       "    </tr>\n",
       "    <tr>\n",
       "      <th>...</th>\n",
       "      <td>...</td>\n",
       "      <td>...</td>\n",
       "      <td>...</td>\n",
       "    </tr>\n",
       "    <tr>\n",
       "      <th>56579</th>\n",
       "      <td>MLYDFLMLLRRYKVSSVLNIAGMGLAFAAAYLMLVQVVFDFSYNRS...</td>\n",
       "      <td>52.89</td>\n",
       "      <td>17.09</td>\n",
       "    </tr>\n",
       "    <tr>\n",
       "      <th>56580</th>\n",
       "      <td>MDREMIIVLDFGGQYNQLIARRVRECNVYCEVHPYNLGLDKIREMN...</td>\n",
       "      <td>36.45</td>\n",
       "      <td>24.17</td>\n",
       "    </tr>\n",
       "    <tr>\n",
       "      <th>56581</th>\n",
       "      <td>MKFQFDNRLTNELPEDTLAAQGHMQPRLVQHAVWSATQPAAVAAPR...</td>\n",
       "      <td>47.54</td>\n",
       "      <td>16.10</td>\n",
       "    </tr>\n",
       "    <tr>\n",
       "      <th>56582</th>\n",
       "      <td>MAIQEDNLLKTIISHAKEYGFIFPSSEIYDGLSAVYDYGQNGAELK...</td>\n",
       "      <td>43.00</td>\n",
       "      <td>24.90</td>\n",
       "    </tr>\n",
       "    <tr>\n",
       "      <th>56583</th>\n",
       "      <td>MTKRIIDKKLTFRRLFLLLCDVAIIIISSAMGLLLRFDLSPKKVDP...</td>\n",
       "      <td>51.78</td>\n",
       "      <td>15.05</td>\n",
       "    </tr>\n",
       "  </tbody>\n",
       "</table>\n",
       "<p>56584 rows × 3 columns</p>\n",
       "</div>"
      ],
      "text/plain": [
       "                                                    data  alpha_helix  \\\n",
       "0      MKIVLKQVGHYKRDTFLTMGLTALEVVMEILLPFITAIIIDDGLKQ...        65.46   \n",
       "1      MDIFDGLTALGGLCLFLFGMQIMAEALQRRAGGRLEGLLRRMTRSR...        82.84   \n",
       "2      MQEQYRPEDIESNVQLHWQEKQTFKVTEDDSKEKYYCLSMLPYPSG...        39.77   \n",
       "3      MKNNNWYRTAIFYELYVRAFCDSNADGWGDLRGMAEKLDYLKKLGV...        33.40   \n",
       "4      MSTSVALDIDQYAINIAKGLIMDTVRKADSGHTGGPLSSMDYTYTL...        45.84   \n",
       "...                                                  ...          ...   \n",
       "56579  MLYDFLMLLRRYKVSSVLNIAGMGLAFAAAYLMLVQVVFDFSYNRS...        52.89   \n",
       "56580  MDREMIIVLDFGGQYNQLIARRVRECNVYCEVHPYNLGLDKIREMN...        36.45   \n",
       "56581  MKFQFDNRLTNELPEDTLAAQGHMQPRLVQHAVWSATQPAAVAAPR...        47.54   \n",
       "56582  MAIQEDNLLKTIISHAKEYGFIFPSSEIYDGLSAVYDYGQNGAELK...        43.00   \n",
       "56583  MTKRIIDKKLTFRRLFLLLCDVAIIIISSAMGLLLRFDLSPKKVDP...        51.78   \n",
       "\n",
       "       beta_sheet  \n",
       "0           10.54  \n",
       "1            0.35  \n",
       "2           23.37  \n",
       "3           16.98  \n",
       "4           13.92  \n",
       "...           ...  \n",
       "56579       17.09  \n",
       "56580       24.17  \n",
       "56581       16.10  \n",
       "56582       24.90  \n",
       "56583       15.05  \n",
       "\n",
       "[56584 rows x 3 columns]"
      ]
     },
     "execution_count": 4,
     "metadata": {},
     "output_type": "execute_result"
    }
   ],
   "source": [
    "df"
   ]
  },
  {
   "cell_type": "code",
   "execution_count": 5,
   "metadata": {},
   "outputs": [
    {
     "data": {
      "text/plain": [
       "1747"
      ]
     },
     "execution_count": 5,
     "metadata": {},
     "output_type": "execute_result"
    }
   ],
   "source": [
    "sum(df.data.apply(len) > 1024)"
   ]
  },
  {
   "cell_type": "code",
   "execution_count": 6,
   "metadata": {},
   "outputs": [
    {
     "data": {
      "image/png": "[encoded data removed]",
      "text/plain": [
       "<Figure size 800x800 with 1 Axes>"
      ]
     },
     "metadata": {},
     "output_type": "display_data"
    }
   ],
   "source": [
    "\n",
    "# Assuming 'df' is your DataFrame and it contains 'alpha_helix' column as well.\n",
    "\n",
    "# Define the conditions\n",
    "condition1 = df['beta_sheet'] > 40\n",
    "condition2 = (df['beta_sheet'] <= 40) & (df['beta_sheet'] >= 20) & \\\n",
    "             (df['alpha_helix'] <= 40) & (df['alpha_helix'] >= 20)\n",
    "condition3 = df['alpha_helix'] > 40\n",
    "condition4 = ~(condition1 | condition2 | condition3)  # Represents all other proteins\n",
    "\n",
    "# Calculate the counts\n",
    "beta_sheet_gt_40_count = df[condition1].shape[0]\n",
    "around_same_percentage_count = df[condition2].shape[0]\n",
    "alpha_helix_gt_40_count = df[condition3].shape[0]\n",
    "other_proteins_count = df[condition4].shape[0]\n",
    "\n",
    "# Data to plot\n",
    "labels = ['Beta Sheet > 40%', 'Alpha Helix & Beta Sheet: 20%-40%', 'Alpha Helix > 40%', 'Others']\n",
    "sizes = [beta_sheet_gt_40_count, around_same_percentage_count, alpha_helix_gt_40_count, other_proteins_count]\n",
    "colors = ['gold', 'lightgreen', 'lightblue', 'lightgrey']\n",
    "explode = (0.1, 0, 0, 0)  # explode the 1st slice for emphasis\n",
    "\n",
    "# Custom function to format the label with actual numbers and percentages\n",
    "def func(pct, allsizes):\n",
    "    absolute = int(pct/100.*np.sum(allsizes))\n",
    "    return \"{:.1f}%\\n({:d})\".format(pct, absolute)\n",
    "\n",
    "# Plot\n",
    "plt.figure(figsize=(8, 8))\n",
    "wedges, texts, autotexts = plt.pie(sizes, explode=explode, labels=labels, colors=colors,\n",
    "                                   autopct=lambda pct: func(pct, sizes),\n",
    "                                   shadow=True, startangle=140)\n",
    "\n",
    "plt.title('Distribution of Proteins by Secondary Structure Content')\n",
    "plt.axis('equal')  # Equal aspect ratio ensures the pie chart is drawn as a circle.\n",
    "\n",
    "plt.setp(autotexts, size=10, weight=\"bold\")  # Set the font size and weight for autopct\n",
    "\n",
    "# Show plot\n",
    "plt.show()"
   ]
  },
  {
   "cell_type": "code",
   "execution_count": 7,
   "metadata": {},
   "outputs": [],
   "source": [
    "beta_labels = [int(value) for value in df.beta_sheet > 40]"
   ]
  },
  {
   "cell_type": "code",
   "execution_count": 8,
   "metadata": {},
   "outputs": [
    {
     "data": {
      "text/plain": [
       "True"
      ]
     },
     "execution_count": 8,
     "metadata": {},
     "output_type": "execute_result"
    }
   ],
   "source": [
    "sequences = df.data.to_list()\n",
    "labels = beta_labels\n",
    "\n",
    "# Quick check to make sure we got it right\n",
    "len(sequences) == len(labels)"
   ]
  },
  {
   "cell_type": "code",
   "execution_count": 9,
   "metadata": {},
   "outputs": [],
   "source": [
    "# all_less_than_1024 = all(len(s) < 1024 for s in sequences)\n",
    "\n",
    "# # Print the result\n",
    "# print(\"All strings are less than 1024 characters:\", all_less_than_1024)"
   ]
  },
  {
   "cell_type": "code",
   "execution_count": 10,
   "metadata": {},
   "outputs": [],
   "source": [
    "train_sequences, test_sequences, train_labels, test_labels = train_test_split(sequences, labels, test_size=0.25, shuffle=True)"
   ]
  },
  {
   "cell_type": "code",
   "execution_count": 11,
   "metadata": {},
   "outputs": [
    {
     "data": {
      "text/plain": [
       "(1511, 520)"
      ]
     },
     "execution_count": 11,
     "metadata": {},
     "output_type": "execute_result"
    }
   ],
   "source": [
    "sum(train_labels), sum(test_labels)"
   ]
  },
  {
   "cell_type": "code",
   "execution_count": 12,
   "metadata": {},
   "outputs": [],
   "source": [
    "# model_checkpoint = \"facebook/esm2_t36_3B_UR50D\"\n",
    "# model_checkpoint = \"facebook/esm2_t33_650M_UR50D\"\n",
    "# model_checkpoint = \"facebook/esm2_t30_150M_UR50D\"\n",
    "model_checkpoint = \"facebook/esm2_t12_35M_UR50D\"\n",
    "# model_checkpoint = \"facebook/esm2_t6_8M_UR50D\""
   ]
  },
  {
   "cell_type": "code",
   "execution_count": 13,
   "metadata": {},
   "outputs": [],
   "source": [
    "tokenizer = AutoTokenizer.from_pretrained(model_checkpoint)"
   ]
  },
  {
   "cell_type": "code",
   "execution_count": 14,
   "metadata": {},
   "outputs": [
    {
     "data": {
      "text/plain": [
       "{'input_ids': [0, 20, 5, 15, 9, 12, 15, 18, 9, 12, 15, 5, 10, 9, 9, 4, 15, 15, 6, 7, 13, 5, 4, 5, 13, 5, 7, 15, 7, 11, 4, 6, 14, 15, 6, 10, 17, 7, 12, 12, 9, 15, 15, 18, 6, 5, 14, 21, 12, 11, 15, 13, 6, 7, 8, 7, 5, 10, 9, 7, 9, 4, 9, 13, 14, 18, 16, 17, 20, 6, 5, 16, 4, 7, 15, 9, 7, 5, 8, 15, 11, 6, 13, 13, 5, 6, 13, 6, 11, 11, 11, 5, 11, 7, 4, 5, 16, 8, 12, 12, 17, 7, 6, 4, 15, 17, 7, 5, 5, 6, 5, 17, 14, 20, 13, 4, 15, 10, 6, 12, 13, 15, 5, 7, 5, 15, 7, 7, 9, 11, 12, 10, 17, 20, 5, 9, 14, 7, 6, 13, 13, 18, 15, 15, 12, 9, 13, 7, 5, 10, 12, 8, 5, 17, 17, 13, 9, 5, 12, 6, 15, 4, 12, 5, 9, 5, 20, 15, 15, 7, 15, 15, 9, 6, 7, 12, 11, 7, 13, 9, 5, 15, 6, 11, 9, 11, 11, 7, 13, 12, 7, 9, 6, 20, 16, 18, 13, 10, 6, 19, 12, 8, 14, 19, 18, 7, 11, 8, 14, 9, 15, 20, 9, 23, 7, 20, 9, 17, 14, 19, 12, 4, 12, 19, 13, 15, 15, 12, 8, 17, 4, 15, 13, 20, 4, 14, 12, 4, 9, 11, 11, 5, 16, 8, 6, 10, 14, 4, 4, 12, 12, 5, 9, 13, 7, 13, 16, 9, 5, 4, 5, 11, 4, 7, 7, 17, 10, 4, 10, 6, 8, 4, 15, 7, 23, 5, 7, 15, 5, 14, 6, 18, 6, 13, 10, 10, 15, 9, 20, 4, 9, 13, 12, 5, 12, 4, 11, 6, 6, 11, 7, 12, 8, 9, 9, 15, 6, 20, 15, 4, 13, 5, 5, 11, 4, 11, 13, 4, 6, 11, 5, 13, 15, 7, 11, 7, 17, 15, 9, 17, 11, 11, 12, 7, 17, 6, 5, 6, 5, 15, 13, 5, 12, 5, 5, 10, 7, 5, 16, 12, 15, 5, 16, 12, 9, 16, 11, 15, 8, 13, 19, 13, 10, 9, 15, 4, 16, 9, 10, 4, 5, 15, 4, 5, 6, 6, 7, 5, 7, 4, 21, 12, 6, 5, 14, 8, 9, 7, 9, 20, 15, 9, 15, 15, 13, 10, 7, 13, 13, 5, 4, 8, 5, 11, 10, 5, 5, 12, 5, 9, 6, 12, 7, 14, 6, 6, 6, 7, 5, 19, 12, 10, 23, 7, 15, 9, 4, 9, 6, 4, 15, 6, 5, 17, 13, 13, 9, 9, 11, 6, 12, 5, 12, 7, 15, 10, 5, 12, 9, 9, 14, 4, 10, 16, 12, 7, 16, 17, 5, 6, 6, 9, 6, 5, 7, 7, 12, 16, 15, 7, 5, 17, 6, 11, 5, 13, 18, 6, 19, 17, 5, 10, 11, 6, 9, 19, 9, 17, 4, 4, 5, 5, 6, 7, 12, 13, 14, 5, 15, 7, 11, 10, 7, 5, 4, 9, 17, 5, 5, 8, 12, 5, 6, 20, 18, 4, 11, 11, 9, 23, 7, 12, 5, 13, 15, 15, 9, 13, 17, 14, 5, 14, 5, 20, 14, 5, 6, 6, 20, 6, 6, 20, 6, 6, 20, 20, 2], 'attention_mask': [1, 1, 1, 1, 1, 1, 1, 1, 1, 1, 1, 1, 1, 1, 1, 1, 1, 1, 1, 1, 1, 1, 1, 1, 1, 1, 1, 1, 1, 1, 1, 1, 1, 1, 1, 1, 1, 1, 1, 1, 1, 1, 1, 1, 1, 1, 1, 1, 1, 1, 1, 1, 1, 1, 1, 1, 1, 1, 1, 1, 1, 1, 1, 1, 1, 1, 1, 1, 1, 1, 1, 1, 1, 1, 1, 1, 1, 1, 1, 1, 1, 1, 1, 1, 1, 1, 1, 1, 1, 1, 1, 1, 1, 1, 1, 1, 1, 1, 1, 1, 1, 1, 1, 1, 1, 1, 1, 1, 1, 1, 1, 1, 1, 1, 1, 1, 1, 1, 1, 1, 1, 1, 1, 1, 1, 1, 1, 1, 1, 1, 1, 1, 1, 1, 1, 1, 1, 1, 1, 1, 1, 1, 1, 1, 1, 1, 1, 1, 1, 1, 1, 1, 1, 1, 1, 1, 1, 1, 1, 1, 1, 1, 1, 1, 1, 1, 1, 1, 1, 1, 1, 1, 1, 1, 1, 1, 1, 1, 1, 1, 1, 1, 1, 1, 1, 1, 1, 1, 1, 1, 1, 1, 1, 1, 1, 1, 1, 1, 1, 1, 1, 1, 1, 1, 1, 1, 1, 1, 1, 1, 1, 1, 1, 1, 1, 1, 1, 1, 1, 1, 1, 1, 1, 1, 1, 1, 1, 1, 1, 1, 1, 1, 1, 1, 1, 1, 1, 1, 1, 1, 1, 1, 1, 1, 1, 1, 1, 1, 1, 1, 1, 1, 1, 1, 1, 1, 1, 1, 1, 1, 1, 1, 1, 1, 1, 1, 1, 1, 1, 1, 1, 1, 1, 1, 1, 1, 1, 1, 1, 1, 1, 1, 1, 1, 1, 1, 1, 1, 1, 1, 1, 1, 1, 1, 1, 1, 1, 1, 1, 1, 1, 1, 1, 1, 1, 1, 1, 1, 1, 1, 1, 1, 1, 1, 1, 1, 1, 1, 1, 1, 1, 1, 1, 1, 1, 1, 1, 1, 1, 1, 1, 1, 1, 1, 1, 1, 1, 1, 1, 1, 1, 1, 1, 1, 1, 1, 1, 1, 1, 1, 1, 1, 1, 1, 1, 1, 1, 1, 1, 1, 1, 1, 1, 1, 1, 1, 1, 1, 1, 1, 1, 1, 1, 1, 1, 1, 1, 1, 1, 1, 1, 1, 1, 1, 1, 1, 1, 1, 1, 1, 1, 1, 1, 1, 1, 1, 1, 1, 1, 1, 1, 1, 1, 1, 1, 1, 1, 1, 1, 1, 1, 1, 1, 1, 1, 1, 1, 1, 1, 1, 1, 1, 1, 1, 1, 1, 1, 1, 1, 1, 1, 1, 1, 1, 1, 1, 1, 1, 1, 1, 1, 1, 1, 1, 1, 1, 1, 1, 1, 1, 1, 1, 1, 1, 1, 1, 1, 1, 1, 1, 1, 1, 1, 1, 1, 1, 1, 1, 1, 1, 1, 1, 1, 1, 1, 1, 1, 1, 1, 1, 1, 1, 1, 1, 1, 1, 1, 1, 1, 1, 1, 1, 1, 1, 1, 1, 1, 1, 1, 1, 1, 1, 1, 1, 1, 1, 1, 1, 1, 1, 1, 1, 1, 1, 1, 1, 1, 1, 1, 1, 1, 1, 1, 1, 1, 1, 1, 1, 1, 1, 1, 1, 1, 1, 1, 1, 1, 1, 1, 1, 1, 1, 1, 1, 1, 1, 1]}"
      ]
     },
     "execution_count": 14,
     "metadata": {},
     "output_type": "execute_result"
    }
   ],
   "source": [
    "tokenizer(train_sequences[random.randint(0, len(train_sequences))])"
   ]
  },
  {
   "cell_type": "code",
   "execution_count": 15,
   "metadata": {},
   "outputs": [],
   "source": [
    "train_tokenized = tokenizer(train_sequences, truncation=True)\n",
    "test_tokenized = tokenizer(test_sequences, truncation=True)"
   ]
  },
  {
   "cell_type": "code",
   "execution_count": 16,
   "metadata": {},
   "outputs": [
    {
     "data": {
      "text/plain": [
       "Dataset({\n",
       "    features: ['input_ids', 'attention_mask'],\n",
       "    num_rows: 42438\n",
       "})"
      ]
     },
     "execution_count": 16,
     "metadata": {},
     "output_type": "execute_result"
    }
   ],
   "source": [
    "train_dataset = Dataset.from_dict(train_tokenized)\n",
    "test_dataset = Dataset.from_dict(test_tokenized)\n",
    "\n",
    "train_dataset"
   ]
  },
  {
   "cell_type": "code",
   "execution_count": 17,
   "metadata": {},
   "outputs": [
    {
     "data": {
      "text/plain": [
       "Dataset({\n",
       "    features: ['input_ids', 'attention_mask', 'labels'],\n",
       "    num_rows: 42438\n",
       "})"
      ]
     },
     "execution_count": 17,
     "metadata": {},
     "output_type": "execute_result"
    }
   ],
   "source": [
    "train_dataset = train_dataset.add_column(\"labels\", train_labels)\n",
    "test_dataset = test_dataset.add_column(\"labels\", test_labels)\n",
    "train_dataset"
   ]
  },
  {
   "cell_type": "code",
   "execution_count": 18,
   "metadata": {},
   "outputs": [
    {
     "name": "stderr",
     "output_type": "stream",
     "text": [
      "Some weights of EsmForSequenceClassification were not initialized from the model checkpoint at facebook/esm2_t12_35M_UR50D and are newly initialized: ['classifier.out_proj.bias', 'classifier.dense.bias', 'classifier.out_proj.weight', 'classifier.dense.weight']\n",
      "You should probably TRAIN this model on a down-stream task to be able to use it for predictions and inference.\n"
     ]
    }
   ],
   "source": [
    "num_labels = max(train_labels + test_labels) + 1  # Add 1 since 0 can be a label\n",
    "model = AutoModelForSequenceClassification.from_pretrained(model_checkpoint, num_labels=num_labels)"
   ]
  },
  {
   "cell_type": "code",
   "execution_count": 19,
   "metadata": {},
   "outputs": [],
   "source": [
    "model_name = model_checkpoint.split(\"/\")[-1]\n",
    "batch_size = 6\n",
    "\n",
    "args = TrainingArguments(\n",
    "    f\"{model_name}-finetuned-beta-sheet-jan22-more\",\n",
    "    evaluation_strategy = \"epoch\",\n",
    "    save_strategy = \"epoch\",\n",
    "    learning_rate=2e-5,\n",
    "    per_device_train_batch_size=batch_size,\n",
    "    per_device_eval_batch_size=batch_size,\n",
    "    num_train_epochs=10,\n",
    "    weight_decay=0.01,\n",
    "    load_best_model_at_end=True,\n",
    "    metric_for_best_model=\"recall\",\n",
    "    push_to_hub=False,\n",
    ")"
   ]
  },
  {
   "cell_type": "code",
   "execution_count": 20,
   "metadata": {},
   "outputs": [
    {
     "name": "stderr",
     "output_type": "stream",
     "text": [
      "/tmp/ipykernel_2593/1282703960.py:1: FutureWarning: load_metric is deprecated and will be removed in the next major version of datasets. Use 'evaluate.load' instead, from the new library 🤗 Evaluate: https://huggingface.co/docs/evaluate\n",
      "  metric = load_metric(\"recall.py\")\n",
      "/home/ps/miniconda3/envs/protein/lib/python3.10/site-packages/datasets/load.py:848: FutureWarning: The repository for recall contains custom code which must be executed to correctly load the metric. You can inspect the repository content at recall.py\n",
      "You can avoid this message in future by passing the argument `trust_remote_code=True`.\n",
      "Passing `trust_remote_code=True` will be mandatory to load this metric from the next major release of `datasets`.\n",
      "  warnings.warn(\n"
     ]
    }
   ],
   "source": [
    "metric = load_metric(\"recall.py\")\n",
    "# metric = load_metric(\"accuracy.py\")\n",
    "\n",
    "def compute_metrics(eval_pred):\n",
    "    predictions, labels = eval_pred\n",
    "    predictions = np.argmax(predictions, axis=1)\n",
    "    return metric.compute(predictions=predictions, references=labels)"
   ]
  },
  {
   "cell_type": "code",
   "execution_count": 21,
   "metadata": {},
   "outputs": [],
   "source": [
    "trainer = Trainer(\n",
    "    model,\n",
    "    args,\n",
    "    train_dataset=train_dataset,\n",
    "    eval_dataset=test_dataset,\n",
    "    tokenizer=tokenizer,\n",
    "    compute_metrics=compute_metrics,\n",
    ")"
   ]
  },
  {
   "cell_type": "code",
   "execution_count": 22,
   "metadata": {},
   "outputs": [
    {
     "name": "stderr",
     "output_type": "stream",
     "text": [
      "/home/ps/miniconda3/envs/protein/lib/python3.10/site-packages/torch/nn/parallel/_functions.py:68: UserWarning: Was asked to gather along dimension 0, but all input tensors were scalars; will instead unsqueeze and return a vector.\n",
      "  warnings.warn('Was asked to gather along dimension 0, but all '\n"
     ]
    },
    {
     "data": {
      "text/html": [
       "\n",
       "    <div>\n",
       "      \n",
       "      <progress value='1425' max='35370' style='width:300px; height:20px; vertical-align: middle;'></progress>\n",
       "      [ 1425/35370 07:13 < 2:52:30, 3.28 it/s, Epoch 0.40/10]\n",
       "    </div>\n",
       "    <table border=\"1\" class=\"dataframe\">\n",
       "  <thead>\n",
       " <tr style=\"text-align: left;\">\n",
       "      <th>Epoch</th>\n",
       "      <th>Training Loss</th>\n",
       "      <th>Validation Loss</th>\n",
       "    </tr>\n",
       "  </thead>\n",
       "  <tbody>\n",
       "  </tbody>\n",
       "</table><p>"
      ],
      "text/plain": [
       "<IPython.core.display.HTML object>"
      ]
     },
     "metadata": {},
     "output_type": "display_data"
    },
    {
     "ename": "KeyboardInterrupt",
     "evalue": "",
     "output_type": "error",
     "traceback": [
      "\u001b[0;31m---------------------------------------------------------------------------\u001b[0m",
      "\u001b[0;31mKeyboardInterrupt\u001b[0m                         Traceback (most recent call last)",
      "Cell \u001b[0;32mIn[22], line 1\u001b[0m\n\u001b[0;32m----> 1\u001b[0m \u001b[43mtrainer\u001b[49m\u001b[38;5;241;43m.\u001b[39;49m\u001b[43mtrain\u001b[49m\u001b[43m(\u001b[49m\u001b[43m)\u001b[49m\n",
      "File \u001b[0;32m/home/ps/miniconda3/envs/protein/lib/python3.10/site-packages/transformers/trainer.py:1553\u001b[0m, in \u001b[0;36mTrainer.train\u001b[0;34m(self, resume_from_checkpoint, trial, ignore_keys_for_eval, **kwargs)\u001b[0m\n\u001b[1;32m   1551\u001b[0m         hf_hub_utils\u001b[38;5;241m.\u001b[39menable_progress_bars()\n\u001b[1;32m   1552\u001b[0m \u001b[38;5;28;01melse\u001b[39;00m:\n\u001b[0;32m-> 1553\u001b[0m     \u001b[38;5;28;01mreturn\u001b[39;00m \u001b[43minner_training_loop\u001b[49m\u001b[43m(\u001b[49m\n\u001b[1;32m   1554\u001b[0m \u001b[43m        \u001b[49m\u001b[43margs\u001b[49m\u001b[38;5;241;43m=\u001b[39;49m\u001b[43margs\u001b[49m\u001b[43m,\u001b[49m\n\u001b[1;32m   1555\u001b[0m \u001b[43m        \u001b[49m\u001b[43mresume_from_checkpoint\u001b[49m\u001b[38;5;241;43m=\u001b[39;49m\u001b[43mresume_from_checkpoint\u001b[49m\u001b[43m,\u001b[49m\n\u001b[1;32m   1556\u001b[0m \u001b[43m        \u001b[49m\u001b[43mtrial\u001b[49m\u001b[38;5;241;43m=\u001b[39;49m\u001b[43mtrial\u001b[49m\u001b[43m,\u001b[49m\n\u001b[1;32m   1557\u001b[0m \u001b[43m        \u001b[49m\u001b[43mignore_keys_for_eval\u001b[49m\u001b[38;5;241;43m=\u001b[39;49m\u001b[43mignore_keys_for_eval\u001b[49m\u001b[43m,\u001b[49m\n\u001b[1;32m   1558\u001b[0m \u001b[43m    \u001b[49m\u001b[43m)\u001b[49m\n",
      "File \u001b[0;32m/home/ps/miniconda3/envs/protein/lib/python3.10/site-packages/transformers/trainer.py:1835\u001b[0m, in \u001b[0;36mTrainer._inner_training_loop\u001b[0;34m(self, batch_size, args, resume_from_checkpoint, trial, ignore_keys_for_eval)\u001b[0m\n\u001b[1;32m   1832\u001b[0m     \u001b[38;5;28mself\u001b[39m\u001b[38;5;241m.\u001b[39mcontrol \u001b[38;5;241m=\u001b[39m \u001b[38;5;28mself\u001b[39m\u001b[38;5;241m.\u001b[39mcallback_handler\u001b[38;5;241m.\u001b[39mon_step_begin(args, \u001b[38;5;28mself\u001b[39m\u001b[38;5;241m.\u001b[39mstate, \u001b[38;5;28mself\u001b[39m\u001b[38;5;241m.\u001b[39mcontrol)\n\u001b[1;32m   1834\u001b[0m \u001b[38;5;28;01mwith\u001b[39;00m \u001b[38;5;28mself\u001b[39m\u001b[38;5;241m.\u001b[39maccelerator\u001b[38;5;241m.\u001b[39maccumulate(model):\n\u001b[0;32m-> 1835\u001b[0m     tr_loss_step \u001b[38;5;241m=\u001b[39m \u001b[38;5;28;43mself\u001b[39;49m\u001b[38;5;241;43m.\u001b[39;49m\u001b[43mtraining_step\u001b[49m\u001b[43m(\u001b[49m\u001b[43mmodel\u001b[49m\u001b[43m,\u001b[49m\u001b[43m \u001b[49m\u001b[43minputs\u001b[49m\u001b[43m)\u001b[49m\n\u001b[1;32m   1837\u001b[0m \u001b[38;5;28;01mif\u001b[39;00m (\n\u001b[1;32m   1838\u001b[0m     args\u001b[38;5;241m.\u001b[39mlogging_nan_inf_filter\n\u001b[1;32m   1839\u001b[0m     \u001b[38;5;129;01mand\u001b[39;00m \u001b[38;5;129;01mnot\u001b[39;00m is_torch_tpu_available()\n\u001b[1;32m   1840\u001b[0m     \u001b[38;5;129;01mand\u001b[39;00m (torch\u001b[38;5;241m.\u001b[39misnan(tr_loss_step) \u001b[38;5;129;01mor\u001b[39;00m torch\u001b[38;5;241m.\u001b[39misinf(tr_loss_step))\n\u001b[1;32m   1841\u001b[0m ):\n\u001b[1;32m   1842\u001b[0m     \u001b[38;5;66;03m# if loss is nan or inf simply add the average of previous logged losses\u001b[39;00m\n\u001b[1;32m   1843\u001b[0m     tr_loss \u001b[38;5;241m+\u001b[39m\u001b[38;5;241m=\u001b[39m tr_loss \u001b[38;5;241m/\u001b[39m (\u001b[38;5;241m1\u001b[39m \u001b[38;5;241m+\u001b[39m \u001b[38;5;28mself\u001b[39m\u001b[38;5;241m.\u001b[39mstate\u001b[38;5;241m.\u001b[39mglobal_step \u001b[38;5;241m-\u001b[39m \u001b[38;5;28mself\u001b[39m\u001b[38;5;241m.\u001b[39m_globalstep_last_logged)\n",
      "File \u001b[0;32m/home/ps/miniconda3/envs/protein/lib/python3.10/site-packages/transformers/trainer.py:2690\u001b[0m, in \u001b[0;36mTrainer.training_step\u001b[0;34m(self, model, inputs)\u001b[0m\n\u001b[1;32m   2688\u001b[0m         scaled_loss\u001b[38;5;241m.\u001b[39mbackward()\n\u001b[1;32m   2689\u001b[0m \u001b[38;5;28;01melse\u001b[39;00m:\n\u001b[0;32m-> 2690\u001b[0m     \u001b[38;5;28;43mself\u001b[39;49m\u001b[38;5;241;43m.\u001b[39;49m\u001b[43maccelerator\u001b[49m\u001b[38;5;241;43m.\u001b[39;49m\u001b[43mbackward\u001b[49m\u001b[43m(\u001b[49m\u001b[43mloss\u001b[49m\u001b[43m)\u001b[49m\n\u001b[1;32m   2692\u001b[0m \u001b[38;5;28;01mreturn\u001b[39;00m loss\u001b[38;5;241m.\u001b[39mdetach() \u001b[38;5;241m/\u001b[39m \u001b[38;5;28mself\u001b[39m\u001b[38;5;241m.\u001b[39margs\u001b[38;5;241m.\u001b[39mgradient_accumulation_steps\n",
      "File \u001b[0;32m/home/ps/miniconda3/envs/protein/lib/python3.10/site-packages/accelerate/accelerator.py:1923\u001b[0m, in \u001b[0;36mAccelerator.backward\u001b[0;34m(self, loss, **kwargs)\u001b[0m\n\u001b[1;32m   1921\u001b[0m     \u001b[38;5;28mself\u001b[39m\u001b[38;5;241m.\u001b[39mscaler\u001b[38;5;241m.\u001b[39mscale(loss)\u001b[38;5;241m.\u001b[39mbackward(\u001b[38;5;241m*\u001b[39m\u001b[38;5;241m*\u001b[39mkwargs)\n\u001b[1;32m   1922\u001b[0m \u001b[38;5;28;01melse\u001b[39;00m:\n\u001b[0;32m-> 1923\u001b[0m     \u001b[43mloss\u001b[49m\u001b[38;5;241;43m.\u001b[39;49m\u001b[43mbackward\u001b[49m\u001b[43m(\u001b[49m\u001b[38;5;241;43m*\u001b[39;49m\u001b[38;5;241;43m*\u001b[39;49m\u001b[43mkwargs\u001b[49m\u001b[43m)\u001b[49m\n",
      "File \u001b[0;32m/home/ps/miniconda3/envs/protein/lib/python3.10/site-packages/torch/_tensor.py:487\u001b[0m, in \u001b[0;36mTensor.backward\u001b[0;34m(self, gradient, retain_graph, create_graph, inputs)\u001b[0m\n\u001b[1;32m    477\u001b[0m \u001b[38;5;28;01mif\u001b[39;00m has_torch_function_unary(\u001b[38;5;28mself\u001b[39m):\n\u001b[1;32m    478\u001b[0m     \u001b[38;5;28;01mreturn\u001b[39;00m handle_torch_function(\n\u001b[1;32m    479\u001b[0m         Tensor\u001b[38;5;241m.\u001b[39mbackward,\n\u001b[1;32m    480\u001b[0m         (\u001b[38;5;28mself\u001b[39m,),\n\u001b[0;32m   (...)\u001b[0m\n\u001b[1;32m    485\u001b[0m         inputs\u001b[38;5;241m=\u001b[39minputs,\n\u001b[1;32m    486\u001b[0m     )\n\u001b[0;32m--> 487\u001b[0m \u001b[43mtorch\u001b[49m\u001b[38;5;241;43m.\u001b[39;49m\u001b[43mautograd\u001b[49m\u001b[38;5;241;43m.\u001b[39;49m\u001b[43mbackward\u001b[49m\u001b[43m(\u001b[49m\n\u001b[1;32m    488\u001b[0m \u001b[43m    \u001b[49m\u001b[38;5;28;43mself\u001b[39;49m\u001b[43m,\u001b[49m\u001b[43m \u001b[49m\u001b[43mgradient\u001b[49m\u001b[43m,\u001b[49m\u001b[43m \u001b[49m\u001b[43mretain_graph\u001b[49m\u001b[43m,\u001b[49m\u001b[43m \u001b[49m\u001b[43mcreate_graph\u001b[49m\u001b[43m,\u001b[49m\u001b[43m \u001b[49m\u001b[43minputs\u001b[49m\u001b[38;5;241;43m=\u001b[39;49m\u001b[43minputs\u001b[49m\n\u001b[1;32m    489\u001b[0m \u001b[43m\u001b[49m\u001b[43m)\u001b[49m\n",
      "File \u001b[0;32m/home/ps/miniconda3/envs/protein/lib/python3.10/site-packages/torch/autograd/__init__.py:200\u001b[0m, in \u001b[0;36mbackward\u001b[0;34m(tensors, grad_tensors, retain_graph, create_graph, grad_variables, inputs)\u001b[0m\n\u001b[1;32m    195\u001b[0m     retain_graph \u001b[38;5;241m=\u001b[39m create_graph\n\u001b[1;32m    197\u001b[0m \u001b[38;5;66;03m# The reason we repeat same the comment below is that\u001b[39;00m\n\u001b[1;32m    198\u001b[0m \u001b[38;5;66;03m# some Python versions print out the first line of a multi-line function\u001b[39;00m\n\u001b[1;32m    199\u001b[0m \u001b[38;5;66;03m# calls in the traceback and some print out the last line\u001b[39;00m\n\u001b[0;32m--> 200\u001b[0m \u001b[43mVariable\u001b[49m\u001b[38;5;241;43m.\u001b[39;49m\u001b[43m_execution_engine\u001b[49m\u001b[38;5;241;43m.\u001b[39;49m\u001b[43mrun_backward\u001b[49m\u001b[43m(\u001b[49m\u001b[43m  \u001b[49m\u001b[38;5;66;43;03m# Calls into the C++ engine to run the backward pass\u001b[39;49;00m\n\u001b[1;32m    201\u001b[0m \u001b[43m    \u001b[49m\u001b[43mtensors\u001b[49m\u001b[43m,\u001b[49m\u001b[43m \u001b[49m\u001b[43mgrad_tensors_\u001b[49m\u001b[43m,\u001b[49m\u001b[43m \u001b[49m\u001b[43mretain_graph\u001b[49m\u001b[43m,\u001b[49m\u001b[43m \u001b[49m\u001b[43mcreate_graph\u001b[49m\u001b[43m,\u001b[49m\u001b[43m \u001b[49m\u001b[43minputs\u001b[49m\u001b[43m,\u001b[49m\n\u001b[1;32m    202\u001b[0m \u001b[43m    \u001b[49m\u001b[43mallow_unreachable\u001b[49m\u001b[38;5;241;43m=\u001b[39;49m\u001b[38;5;28;43;01mTrue\u001b[39;49;00m\u001b[43m,\u001b[49m\u001b[43m \u001b[49m\u001b[43maccumulate_grad\u001b[49m\u001b[38;5;241;43m=\u001b[39;49m\u001b[38;5;28;43;01mTrue\u001b[39;49;00m\u001b[43m)\u001b[49m\n",
      "\u001b[0;31mKeyboardInterrupt\u001b[0m: "
     ]
    }
   ],
   "source": [
    "trainer.train()"
   ]
  }
 ],
 "metadata": {
  "kernelspec": {
   "display_name": "protein",
   "language": "python",
   "name": "python3"
  },
  "language_info": {
   "codemirror_mode": {
    "name": "ipython",
    "version": 3
   },
   "file_extension": ".py",
   "mimetype": "text/x-python",
   "name": "python",
   "nbconvert_exporter": "python",
   "pygments_lexer": "ipython3",
   "version": "3.10.11"
  }
 },
 "nbformat": 4,
 "nbformat_minor": 2
}
